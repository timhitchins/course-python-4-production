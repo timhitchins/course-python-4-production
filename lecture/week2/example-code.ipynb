{
 "cells": [
  {
   "cell_type": "code",
   "execution_count": 2,
   "id": "9f672bb4",
   "metadata": {},
   "outputs": [
    {
     "name": "stdout",
     "output_type": "stream",
     "text": [
      "Requirement already satisfied: nest_asyncio in /Users/ranwei/opt/anaconda3/lib/python3.9/site-packages (1.5.5)\r\n"
     ]
    }
   ],
   "source": [
    "!pip install nest_asyncio"
   ]
  },
  {
   "cell_type": "code",
   "execution_count": 3,
   "id": "427edb7c",
   "metadata": {},
   "outputs": [],
   "source": [
    "import nest_asyncio\n",
    "nest_asyncio.apply()"
   ]
  },
  {
   "cell_type": "code",
   "execution_count": 6,
   "id": "16963516",
   "metadata": {
    "scrolled": true
   },
   "outputs": [
    {
     "name": "stdout",
     "output_type": "stream",
     "text": [
      "Sync Worker 0 starts\n",
      "Sync Worker 0 ends\n",
      "Sync Worker 1 starts\n",
      "Sync Worker 1 ends\n",
      "Sync Worker 2 starts\n",
      "Sync Worker 2 ends\n",
      "Synchronous execution time: 3.015688180923462\n",
      "Async Worker 0 starts\n",
      "Async Worker 1 starts\n",
      "Async Worker 2 starts\n",
      "Async Worker 0 ends\n",
      "Async Worker 1 ends\n",
      "Async Worker 2 ends\n",
      "Asynchronous execution time: 1.002626895904541\n"
     ]
    }
   ],
   "source": [
    "import asyncio\n",
    "import time\n",
    "import nest_asyncio\n",
    "\n",
    "nest_asyncio.apply()\n",
    "\n",
    "# Synchronous function\n",
    "def sync_worker(number):\n",
    "    print(f'Sync Worker {number} starts')\n",
    "    time.sleep(1)\n",
    "    print(f'Sync Worker {number} ends')\n",
    "    return f'Sync Worker {number}'\n",
    "\n",
    "# Asynchronous function\n",
    "async def async_worker(number):\n",
    "    print(f'Async Worker {number} starts')\n",
    "    await asyncio.sleep(1)\n",
    "    print(f'Async Worker {number} ends')\n",
    "    return f'Async Worker {number}'\n",
    "\n",
    "# Synchronous execution\n",
    "start_time = time.time()\n",
    "for i in range(3):\n",
    "    sync_worker(i)\n",
    "print(f'Synchronous execution time: {time.time() - start_time}')\n",
    "\n",
    "# Asynchronous execution\n",
    "start_time = time.time()\n",
    "loop = asyncio.get_event_loop()\n",
    "tasks = [async_worker(i) for i in range(3)]\n",
    "loop.run_until_complete(asyncio.gather(*tasks))\n",
    "print(f'Asynchronous execution time: {time.time() - start_time}')\n"
   ]
  },
  {
   "cell_type": "code",
   "execution_count": 6,
   "id": "a745f6b2",
   "metadata": {},
   "outputs": [],
   "source": [
    "from fastapi import FastAPI\n",
    "import time\n",
    "\n",
    "app = FastAPI()\n",
    "\n",
    "@app.get(\"/sleep/{seconds}\")\n",
    "async def sleep_for_seconds(seconds: int):\n",
    "    time.sleep(seconds)\n",
    "    return {\"Success\": True, \"SleptFor\": seconds}\n"
   ]
  },
  {
   "cell_type": "code",
   "execution_count": 7,
   "id": "870e5e82",
   "metadata": {},
   "outputs": [
    {
     "name": "stdout",
     "output_type": "stream",
     "text": [
      "successful connection with sqlite version 2.6.0\n"
     ]
    }
   ],
   "source": [
    "# =============================================================================\n",
    "# DB Connectivity using SQLite3\n",
    "# =============================================================================\n",
    "import sqlite3\n",
    "from sqlite3 import Error\n",
    "\n",
    "def create_connection():\n",
    "    conn = None;\n",
    "    try:\n",
    "        conn = sqlite3.connect(\":memory:\") # creates a memory-based temporary database for demo\n",
    "        print(f'successful connection with sqlite version {sqlite3.version}')\n",
    "    except Error as e:\n",
    "        print(e)\n",
    "    finally:\n",
    "        if conn:\n",
    "            conn.close()\n",
    "\n",
    "create_connection()\n"
   ]
  },
  {
   "cell_type": "code",
   "execution_count": 8,
   "id": "b7268404",
   "metadata": {},
   "outputs": [
    {
     "name": "stdout",
     "output_type": "stream",
     "text": [
      "(1, 'John', 'john@example.com')\n"
     ]
    }
   ],
   "source": [
    "# =============================================================================\n",
    "# DB Connectivity using SQLite3 -- Example 2\n",
    "# =============================================================================\n",
    "import sqlite3\n",
    "\n",
    "# Connect to the database\n",
    "conn = sqlite3.connect('example.db')\n",
    "\n",
    "# Create a cursor object\n",
    "cursor = conn.cursor()\n",
    "\n",
    "# Create a table\n",
    "cursor.execute('''CREATE TABLE users\n",
    "                  (id INTEGER PRIMARY KEY, name TEXT, email TEXT)''')\n",
    "\n",
    "# Insert data into the table\n",
    "cursor.execute(\"INSERT INTO users (name, email) VALUES (?, ?)\", ('John', 'john@example.com'))\n",
    "\n",
    "# Fetch data from the table\n",
    "cursor.execute(\"SELECT * FROM users\")\n",
    "rows = cursor.fetchall()\n",
    "for row in rows:\n",
    "    print(row)\n",
    "\n",
    "# Close the database connection\n",
    "conn.close()"
   ]
  },
  {
   "cell_type": "code",
   "execution_count": 17,
   "id": "1e41cb67",
   "metadata": {},
   "outputs": [
    {
     "name": "stdout",
     "output_type": "stream",
     "text": [
      "200\n",
      "{'name': 'Harry Potter', 'house': 'Gryffindor', 'year': 5}\n"
     ]
    }
   ],
   "source": [
    "# =============================================================================\n",
    "# HogwartsMember\n",
    "# =============================================================================\n",
    "from fastapi import FastAPI\n",
    "from pydantic import BaseModel\n",
    "from typing import Optional\n",
    "\n",
    "app = FastAPI()\n",
    "\n",
    "class HogwartsMember(BaseModel):\n",
    "    name: str\n",
    "    house: Optional[str] = None\n",
    "    year: Optional[int] = None\n",
    "\n",
    "members = [\n",
    "    {\"name\": \"Harry Potter\", \"house\": \"Gryffindor\", \"year\": 5},\n",
    "    {\"name\": \"Hermione Granger\", \"house\": \"Gryffindor\", \"year\": 5},\n",
    "]\n",
    "\n",
    "@app.get(\"/hogwarts/members/{member_id}\")\n",
    "def get_member(member_id: int):\n",
    "    if 0 <= member_id < len(members):\n",
    "        return members[member_id]\n",
    "    return {\"error\": \"Member not found\"}\n",
    "\n",
    "@app.post(\"/hogwarts/members\")\n",
    "def add_member(member: HogwartsMember):\n",
    "    members.append(member.dict())\n",
    "    return {\"success\": True, \"member_id\": len(members) - 1}\n",
    "\n",
    "# =============================================================================\n",
    "# Test cases\n",
    "# =============================================================================\n",
    "from fastapi.testclient import TestClient\n",
    "import unittest\n",
    "\n",
    "client = TestClient(app)\n",
    "\n",
    "class TestHogwarts(unittest.TestCase):\n",
    "    def test_get_member(self):\n",
    "        response = client.get(\"/hogwarts/members/0\")\n",
    "        self.assertEqual(response.status_code, 200)\n",
    "        self.assertEqual(response.json(), {\"name\": \"Harry Potter\", \"house\": \"Gryffindor\", \"year\": 5})\n",
    "\n",
    "    def test_get_member_not_found(self):\n",
    "        response = client.get(\"/hogwarts/members/999\")\n",
    "        self.assertEqual(response.status_code, 200)\n",
    "        self.assertEqual(response.json(), {\"error\": \"Member not found\"})\n",
    "\n",
    "    def test_add_member(self):\n",
    "        response = client.post(\"/hogwarts/members\", json={\"name\": \"Ron Weasley\", \"house\": \"Gryffindor\", \"year\": 5})\n",
    "        self.assertEqual(response.status_code, 200)\n",
    "        self.assertEqual(response.json(), {\"success\": True, \"member_id\": 2})\n",
    "\n",
    "    def test_add_member_no_house(self):\n",
    "        response = client.post(\"/hogwarts/members\", json={\"name\": \"Luna Lovegood\", \"year\": 4})\n",
    "        self.assertEqual(response.status_code, 200)\n",
    "        self.assertEqual(response.json(), {\"success\": True, \"member_id\": 3})\n",
    "        \n",
    "\n",
    "response = client.get(\"/hogwarts/members/0\")\n",
    "print(response.status_code) # 200\n",
    "print(response.json()) # {'name': 'Harry Potter', 'house': 'Gryffindor', 'year': 5}       "
   ]
  },
  {
   "cell_type": "code",
   "execution_count": 19,
   "id": "850ab701",
   "metadata": {},
   "outputs": [
    {
     "name": "stdout",
     "output_type": "stream",
     "text": [
      "{'success': True, 'member_id': 2}\n"
     ]
    }
   ],
   "source": [
    "from pydantic import BaseModel\n",
    "from typing import Optional\n",
    "\n",
    "class HogwartsMember(BaseModel):\n",
    "    name: str\n",
    "    house: Optional[str] = None\n",
    "    year: Optional[int] = None\n",
    "\n",
    "new_member = HogwartsMember(name=\"Draco Malfoy\", house=\"Slytherin\", year=5)\n",
    "\n",
    "response = client.post(\"/hogwarts/members\", json=new_member.dict())\n",
    "print(response.json())  # Should print: {'success': True, 'member_id': <new_member_id>}\n",
    "\n",
    "# http://127.0.0.1:8000/hogwarts/members/2"
   ]
  },
  {
   "cell_type": "code",
   "execution_count": null,
   "id": "23bd9d79",
   "metadata": {},
   "outputs": [],
   "source": []
  }
 ],
 "metadata": {
  "kernelspec": {
   "display_name": "Python 3 (ipykernel)",
   "language": "python",
   "name": "python3"
  },
  "language_info": {
   "codemirror_mode": {
    "name": "ipython",
    "version": 3
   },
   "file_extension": ".py",
   "mimetype": "text/x-python",
   "name": "python",
   "nbconvert_exporter": "python",
   "pygments_lexer": "ipython3",
   "version": "3.9.13"
  }
 },
 "nbformat": 4,
 "nbformat_minor": 5
}
