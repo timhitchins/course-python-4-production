{
 "cells": [
  {
   "cell_type": "code",
   "execution_count": 1,
   "id": "87374cbd",
   "metadata": {},
   "outputs": [
    {
     "name": "stderr",
     "output_type": "stream",
     "text": [
      "2023-05-26 01:03:32,181 - my_logger - INFO - info message\n",
      "2023-05-26 01:03:32,182 - my_logger - WARNING - warning message\n"
     ]
    }
   ],
   "source": [
    "# =============================================================================\n",
    "# Logging Handler (StreamHandler)\n",
    "# =============================================================================\n",
    "import logging\n",
    "\n",
    "# create a logger object\n",
    "logger = logging.getLogger('my_logger')\n",
    "logger.setLevel(logging.DEBUG)\n",
    "\n",
    "# create a StreamHandler and set its level to INFO\n",
    "sh = logging.StreamHandler()\n",
    "sh.setLevel(logging.INFO)\n",
    "\n",
    "# create a formatter and set it to the handler\n",
    "formatter = logging.Formatter('%(asctime)s - %(name)s - %(levelname)s - %(message)s')\n",
    "sh.setFormatter(formatter)\n",
    "\n",
    "# attach the handler to the logger object\n",
    "logger.addHandler(sh)\n",
    "\n",
    "# log some messages\n",
    "logger.debug('debug message')  # this message won't be shown because its level is lower than INFO\n",
    "logger.info('info message')  # this message will be shown because its level is INFO\n",
    "logger.warning('warning message')"
   ]
  },
  {
   "cell_type": "code",
   "execution_count": 2,
   "id": "c0f822a5",
   "metadata": {},
   "outputs": [],
   "source": [
    "# =============================================================================\n",
    "# Logging Handler (FileHandler)\n",
    "# =============================================================================\n",
    "import logging\n",
    "\n",
    "# create a logger and set its logging level\n",
    "logger = logging.getLogger('example_logger')\n",
    "logger.setLevel(logging.DEBUG)\n",
    "\n",
    "# create a FileHandler and set its logging level\n",
    "file_handler = logging.FileHandler('example.log')\n",
    "file_handler.setLevel(logging.DEBUG)\n",
    "\n",
    "# create a Formatter and add it to the FileHandler\n",
    "formatter = logging.Formatter('%(asctime)s - %(name)s - %(levelname)s - %(message)s')\n",
    "file_handler.setFormatter(formatter)\n",
    "\n",
    "# add the FileHandler to the logger\n",
    "logger.addHandler(file_handler)\n",
    "\n",
    "# log some messages\n",
    "logger.debug('Debug message')\n",
    "logger.info('Info message')\n",
    "logger.warning('Warning message')\n",
    "logger.error('Error message')\n",
    "logger.critical('Critical message')"
   ]
  },
  {
   "cell_type": "code",
   "execution_count": 3,
   "id": "9dde3394",
   "metadata": {},
   "outputs": [],
   "source": [
    "# =============================================================================\n",
    "# Logging Handler (TimedRotatingFileHandler)\n",
    "# =============================================================================\n",
    "import logging\n",
    "import time\n",
    "from logging.handlers import TimedRotatingFileHandler\n",
    "\n",
    "# create a logger and set its logging level\n",
    "logger = logging.getLogger('example_logger')\n",
    "logger.setLevel(logging.DEBUG)\n",
    "\n",
    "# create a TimedRotatingFileHandler that rotates daily\n",
    "handler = TimedRotatingFileHandler(filename='example.log', when='D', interval=1, backupCount=7)\n",
    "\n",
    "# set the logging level of the handler\n",
    "handler.setLevel(logging.DEBUG)\n",
    "\n",
    "# create a Formatter and add it to the handler\n",
    "formatter = logging.Formatter('%(asctime)s - %(name)s - %(levelname)s - %(message)s')\n",
    "handler.setFormatter(formatter)\n",
    "\n",
    "# add the handler to the logger\n",
    "logger.addHandler(handler)\n",
    "\n",
    "# log some messages\n",
    "for i in range(10):\n",
    "    logger.debug('Debug message %d' % i)\n",
    "    time.sleep(1)"
   ]
  },
  {
   "cell_type": "code",
   "execution_count": 4,
   "id": "3426fa01",
   "metadata": {},
   "outputs": [],
   "source": [
    "# =============================================================================\n",
    "# Logging Handler (TimedRotatingFileHandler)\n",
    "# =============================================================================\n",
    "import logging\n",
    "from logging.handlers import TimedRotatingFileHandler\n",
    "\n",
    "# Create handlers\n",
    "console_handler = logging.StreamHandler()\n",
    "file_handler = logging.FileHandler('myapp.log')\n",
    "timedRotating_handler = TimedRotatingFileHandler('myapp_rotating.log', when='midnight')\n",
    "\n",
    "# Create a logger and add handlers to it\n",
    "logger = logging.getLogger()\n",
    "logger.addHandler(console_handler)\n",
    "logger.addHandler(file_handler)\n",
    "logger.addHandler(timedRotating_handler)\n"
   ]
  },
  {
   "cell_type": "code",
   "execution_count": 5,
   "id": "a4a49107",
   "metadata": {},
   "outputs": [
    {
     "name": "stdout",
     "output_type": "stream",
     "text": [
      "         7 function calls in 0.068 seconds\n",
      "\n",
      "   Ordered by: standard name\n",
      "\n",
      "   ncalls  tottime  percall  cumtime  percall filename:lineno(function)\n",
      "        1    0.000    0.000    0.068    0.068 3583879050.py:10(my_func_1)\n",
      "        3    0.068    0.023    0.068    0.023 3583879050.py:6(my_func_2)\n",
      "        1    0.000    0.000    0.068    0.068 <string>:1(<module>)\n",
      "        1    0.000    0.000    0.068    0.068 {built-in method builtins.exec}\n",
      "        1    0.000    0.000    0.000    0.000 {method 'disable' of '_lsprof.Profiler' objects}\n",
      "\n",
      "\n"
     ]
    }
   ],
   "source": [
    "# =============================================================================\n",
    "# cProfile\n",
    "# =============================================================================\n",
    "import cProfile\n",
    "\n",
    "def my_func_2():\n",
    "    for i in range(1000000):\n",
    "        pass\n",
    "\n",
    "def my_func_1():\n",
    "    for i in range(3):\n",
    "        my_func_2()\n",
    "\n",
    "cProfile.run('my_func_1()')"
   ]
  },
  {
   "cell_type": "code",
   "execution_count": 7,
   "id": "ab227455",
   "metadata": {},
   "outputs": [
    {
     "name": "stdout",
     "output_type": "stream",
     "text": [
      "         4 function calls in 0.000 seconds\n",
      "\n",
      "   Ordered by: standard name\n",
      "\n",
      "   ncalls  tottime  percall  cumtime  percall filename:lineno(function)\n",
      "        1    0.000    0.000    0.000    0.000 79837826.py:3(multiply)\n",
      "        1    0.000    0.000    0.000    0.000 <string>:1(<module>)\n",
      "        1    0.000    0.000    0.000    0.000 {built-in method builtins.exec}\n",
      "        1    0.000    0.000    0.000    0.000 {method 'disable' of '_lsprof.Profiler' objects}\n",
      "\n",
      "\n"
     ]
    }
   ],
   "source": [
    "# =============================================================================\n",
    "# The runctx() Method\n",
    "# =============================================================================\n",
    "import cProfile\n",
    "\n",
    "def multiply(a, b):\n",
    "    return a * b\n",
    "\n",
    "globals = {'multiply': multiply}\n",
    "locals = {'a': 5, 'b': 6}\n",
    "\n",
    "cProfile.runctx('multiply(a, b)', globals, locals)\n"
   ]
  },
  {
   "cell_type": "code",
   "execution_count": 8,
   "id": "5cdce3a0",
   "metadata": {},
   "outputs": [],
   "source": [
    "# =============================================================================\n",
    "# The dump_stats() Method\n",
    "# =============================================================================\n",
    "import cProfile\n",
    "\n",
    "def complex_operation():\n",
    "    result = [i * 2 for i in range(100000)]\n",
    "    return sum(result)\n",
    "\n",
    "profiler = cProfile.Profile()\n",
    "profiler.run('complex_operation()')\n",
    "profiler.dump_stats('complex_operation.stats')\n"
   ]
  },
  {
   "cell_type": "code",
   "execution_count": 9,
   "id": "d24d3e91",
   "metadata": {},
   "outputs": [
    {
     "name": "stdout",
     "output_type": "stream",
     "text": [
      "         8 function calls in 0.324 seconds\n",
      "\n",
      "   Ordered by: internal time\n",
      "\n",
      "   ncalls  tottime  percall  cumtime  percall filename:lineno(function)\n",
      "        1    0.217    0.217    0.217    0.217 2953934057.py:8(<listcomp>)\n",
      "        1    0.076    0.076    0.076    0.076 2953934057.py:7(<listcomp>)\n",
      "        2    0.018    0.009    0.018    0.009 {built-in method builtins.sum}\n",
      "        1    0.013    0.013    0.324    0.324 <string>:1(<module>)\n",
      "        1    0.000    0.000    0.324    0.324 {built-in method builtins.exec}\n",
      "        1    0.000    0.000    0.311    0.311 2953934057.py:6(multiple_operations)\n",
      "        1    0.000    0.000    0.000    0.000 {method 'disable' of '_lsprof.Profiler' objects}\n",
      "\n",
      "\n"
     ]
    }
   ],
   "source": [
    "# =============================================================================\n",
    "# The sort_stats() Method\n",
    "# =============================================================================\n",
    "import cProfile\n",
    "\n",
    "def multiple_operations():\n",
    "    list_1 = [i * 2 for i in range(1000000)]  # line 7\n",
    "    list_2 = [i ** 2 for i in range(1000000)] # line 8\n",
    "    return sum(list_1), sum(list_2)\n",
    "\n",
    "profiler = cProfile.Profile()\n",
    "profiler.run('multiple_operations()')\n",
    "profiler.print_stats(sort='time')\n"
   ]
  },
  {
   "cell_type": "code",
   "execution_count": 10,
   "id": "9d07baf8",
   "metadata": {},
   "outputs": [
    {
     "name": "stdout",
     "output_type": "stream",
     "text": [
      "10\n",
      "10\n",
      "10\n",
      "10\n",
      "10\n",
      "10\n",
      "10\n",
      "10\n",
      "10\n",
      "10\n"
     ]
    },
    {
     "data": {
      "text/plain": [
       "<profile.Profile at 0x7f86a85bdb50>"
      ]
     },
     "execution_count": 10,
     "metadata": {},
     "output_type": "execute_result"
    }
   ],
   "source": [
    "# =============================================================================\n",
    "# Profile\n",
    "# =============================================================================\n",
    "import profile\n",
    "import time\n",
    "\n",
    "def my_func():\n",
    "    for _ in range(10):\n",
    "        print(10)\n",
    "        time.sleep(0.5)\n",
    "\n",
    "profiler = profile.Profile()\n",
    "profiler.run('my_func()')"
   ]
  },
  {
   "cell_type": "code",
   "execution_count": 11,
   "id": "d567d626",
   "metadata": {},
   "outputs": [
    {
     "name": "stdout",
     "output_type": "stream",
     "text": [
      "10\n",
      "10\n",
      "10\n",
      "10\n",
      "10\n",
      "10\n",
      "10\n",
      "10\n",
      "10\n",
      "10\n",
      "         264 function calls in 5.037 seconds\n",
      "\n",
      "   Random listing order was used\n",
      "\n",
      "   ncalls  tottime  percall  cumtime  percall filename:lineno(function)\n",
      "        1    0.000    0.000    5.037    5.037 {built-in method builtins.exec}\n",
      "       20    0.000    0.000    0.000    0.000 {built-in method builtins.isinstance}\n",
      "       20    0.000    0.000    0.000    0.000 {built-in method builtins.len}\n",
      "       10    0.001    0.000    0.005    0.000 {built-in method builtins.print}\n",
      "       20    0.000    0.000    0.000    0.000 {built-in method posix.getpid}\n",
      "       10    0.000    0.000    0.000    0.000 {method 'append' of 'collections.deque' objects}\n",
      "       10    5.032    0.503    5.032    0.503 {built-in method time.sleep}\n",
      "       20    0.000    0.000    0.000    0.000 {method '__exit__' of '_thread.RLock' objects}\n",
      "       10    0.000    0.000    0.000    0.000 {method 'acquire' of '_thread.lock' objects}\n",
      "       20    0.000    0.000    0.000    0.000 {method 'write' of '_io.StringIO' objects}\n",
      "        1    0.000    0.000    0.000    0.000 {method 'disable' of '_lsprof.Profiler' objects}\n",
      "       10    0.002    0.000    0.002    0.000 socket.py:543(send)\n",
      "       10    0.000    0.000    0.000    0.000 iostream.py:90(_event_pipe)\n",
      "       10    0.000    0.000    0.003    0.000 iostream.py:202(schedule)\n",
      "       20    0.000    0.000    0.000    0.000 iostream.py:429(_is_master_process)\n",
      "       20    0.000    0.000    0.003    0.000 iostream.py:448(_schedule_flush)\n",
      "       20    0.001    0.000    0.004    0.000 iostream.py:518(write)\n",
      "        1    0.000    0.000    5.037    5.037 3249666645.py:5(my_func)\n",
      "        1    0.000    0.000    5.037    5.037 <string>:1(<module>)\n",
      "       10    0.000    0.000    0.000    0.000 threading.py:536(is_set)\n",
      "       10    0.000    0.000    0.000    0.000 threading.py:1066(_wait_for_tstate_lock)\n",
      "       10    0.000    0.000    0.000    0.000 threading.py:1133(is_alive)\n",
      "\n",
      "\n"
     ]
    },
    {
     "data": {
      "text/plain": [
       "<pstats.Stats at 0x7f86a8586c10>"
      ]
     },
     "execution_count": 11,
     "metadata": {},
     "output_type": "execute_result"
    }
   ],
   "source": [
    "# =============================================================================\n",
    "# strip_dirs()\n",
    "# =============================================================================\n",
    "import cProfile\n",
    "import pstats\n",
    "import time\n",
    "\n",
    "def my_func():\n",
    "    for _ in range(10):\n",
    "        print(10)\n",
    "        time.sleep(0.5)\n",
    "\n",
    "profiler = cProfile.Profile()\n",
    "profiler.run('my_func()')\n",
    "pstats.Stats(profiler).strip_dirs().print_stats()"
   ]
  },
  {
   "cell_type": "code",
   "execution_count": 12,
   "id": "79d65d38",
   "metadata": {},
   "outputs": [
    {
     "name": "stdout",
     "output_type": "stream",
     "text": [
      "10\n",
      "10\n",
      "10\n",
      "10\n",
      "10\n",
      "10\n",
      "10\n",
      "10\n",
      "10\n",
      "10\n",
      "         264 function calls in 5.040 seconds\n",
      "\n",
      "   Ordered by: internal time\n",
      "\n",
      "   ncalls  tottime  percall  cumtime  percall filename:lineno(function)\n",
      "       10    5.034    0.503    5.034    0.503 {built-in method time.sleep}\n",
      "       10    0.004    0.000    0.004    0.000 socket.py:543(send)\n",
      "       20    0.001    0.000    0.005    0.000 iostream.py:518(write)\n",
      "       10    0.000    0.000    0.006    0.001 {built-in method builtins.print}\n",
      "       10    0.000    0.000    0.004    0.000 iostream.py:202(schedule)\n",
      "        1    0.000    0.000    5.040    5.040 2153073161.py:5(my_func)\n",
      "       20    0.000    0.000    0.005    0.000 iostream.py:448(_schedule_flush)\n",
      "       20    0.000    0.000    0.000    0.000 iostream.py:429(_is_master_process)\n",
      "       20    0.000    0.000    0.000    0.000 {method '__exit__' of '_thread.RLock' objects}\n",
      "       10    0.000    0.000    0.000    0.000 threading.py:1133(is_alive)\n",
      "       10    0.000    0.000    0.000    0.000 iostream.py:90(_event_pipe)\n",
      "        1    0.000    0.000    5.040    5.040 {built-in method builtins.exec}\n",
      "       10    0.000    0.000    0.000    0.000 threading.py:1066(_wait_for_tstate_lock)\n",
      "       10    0.000    0.000    0.000    0.000 {method 'acquire' of '_thread.lock' objects}\n",
      "       20    0.000    0.000    0.000    0.000 {method 'write' of '_io.StringIO' objects}\n",
      "       20    0.000    0.000    0.000    0.000 {built-in method builtins.isinstance}\n",
      "       20    0.000    0.000    0.000    0.000 {built-in method posix.getpid}\n",
      "       20    0.000    0.000    0.000    0.000 {built-in method builtins.len}\n",
      "       10    0.000    0.000    0.000    0.000 threading.py:536(is_set)\n",
      "       10    0.000    0.000    0.000    0.000 {method 'append' of 'collections.deque' objects}\n",
      "        1    0.000    0.000    5.040    5.040 <string>:1(<module>)\n",
      "        1    0.000    0.000    0.000    0.000 {method 'disable' of '_lsprof.Profiler' objects}\n",
      "\n",
      "\n"
     ]
    },
    {
     "data": {
      "text/plain": [
       "<pstats.Stats at 0x7f86a8586640>"
      ]
     },
     "execution_count": 12,
     "metadata": {},
     "output_type": "execute_result"
    }
   ],
   "source": [
    "# =============================================================================\n",
    "# sort_stats()\n",
    "# =============================================================================\n",
    "import cProfile\n",
    "import pstats\n",
    "import time\n",
    "\n",
    "def my_func():\n",
    "    for _ in range(10):\n",
    "        print(10)\n",
    "        time.sleep(0.5)\n",
    "\n",
    "profiler = cProfile.Profile()\n",
    "profiler.run('my_func()')\n",
    "pstats.Stats(profiler).strip_dirs().sort_stats('time').print_stats()\n"
   ]
  },
  {
   "cell_type": "code",
   "execution_count": 13,
   "id": "269ecc82",
   "metadata": {},
   "outputs": [],
   "source": [
    "# =============================================================================\n",
    "# Decorators \n",
    "# =============================================================================\n",
    "def my_decorator(func):\n",
    "    def wrapper():\n",
    "        print('Something is happening before the function is called.')\n",
    "        func()\n",
    "        print('Something is happening after the function is called.')\n",
    "    return wrapper\n",
    "\n",
    "@my_decorator\n",
    "def say_hello():\n",
    "    print('Hello!')\n"
   ]
  },
  {
   "cell_type": "code",
   "execution_count": 14,
   "id": "62303907",
   "metadata": {},
   "outputs": [
    {
     "name": "stdout",
     "output_type": "stream",
     "text": [
      "Something is happening before the function is called.\n",
      "Hello!\n",
      "Something is happening after the function is called.\n"
     ]
    }
   ],
   "source": [
    "say_hello()"
   ]
  },
  {
   "cell_type": "code",
   "execution_count": 15,
   "id": "beeeb3a4",
   "metadata": {},
   "outputs": [],
   "source": [
    "# =============================================================================\n",
    "# Metrics Decorators \n",
    "# =============================================================================\n",
    "import time\n",
    "\n",
    "def timer_decorator(func):\n",
    "    def wrapper(*args, **kwargs):\n",
    "        start_time = time.time()\n",
    "        result = func(*args, **kwargs)\n",
    "        end_time = time.time()\n",
    "        print(f\"{func.__name__} ran in: {end_time - start_time} secs\")\n",
    "        return result\n",
    "    return wrapper\n",
    "\n",
    "@timer_decorator\n",
    "def long_running_function():\n",
    "    for _ in range(10000000):\n",
    "        pass"
   ]
  },
  {
   "cell_type": "code",
   "execution_count": 17,
   "id": "d50cddb3",
   "metadata": {},
   "outputs": [
    {
     "name": "stdout",
     "output_type": "stream",
     "text": [
      "long_running_function ran in: 0.23062396049499512 secs\n"
     ]
    }
   ],
   "source": [
    "long_running_function()"
   ]
  },
  {
   "cell_type": "code",
   "execution_count": null,
   "id": "2c038f49",
   "metadata": {},
   "outputs": [],
   "source": []
  }
 ],
 "metadata": {
  "kernelspec": {
   "display_name": "Python 3 (ipykernel)",
   "language": "python",
   "name": "python3"
  },
  "language_info": {
   "codemirror_mode": {
    "name": "ipython",
    "version": 3
   },
   "file_extension": ".py",
   "mimetype": "text/x-python",
   "name": "python",
   "nbconvert_exporter": "python",
   "pygments_lexer": "ipython3",
   "version": "3.9.13"
  }
 },
 "nbformat": 4,
 "nbformat_minor": 5
}
