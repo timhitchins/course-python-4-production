{
 "cells": [
  {
   "cell_type": "code",
   "execution_count": 2,
   "id": "24041a60",
   "metadata": {},
   "outputs": [
    {
     "name": "stdout",
     "output_type": "stream",
     "text": [
      "0\n",
      "1\n",
      "1\n",
      "2\n",
      "3\n",
      "5\n",
      "8\n"
     ]
    }
   ],
   "source": [
    "# =============================================================================\n",
    "# Generators: Yield Keyword\n",
    "# =============================================================================\n",
    "def fibonacci(limit):\n",
    "    a, b = 0, 1\n",
    "    while a < limit:\n",
    "        yield a\n",
    "        a, b = b, a + b\n",
    "\n",
    "fib_gen = fibonacci(10)\n",
    "\n",
    "for number in fib_gen:\n",
    "    print(number)\n",
    "    "
   ]
  },
  {
   "cell_type": "code",
   "execution_count": 3,
   "id": "5f5d236e",
   "metadata": {},
   "outputs": [
    {
     "name": "stdout",
     "output_type": "stream",
     "text": [
      "<generator object fibonacci at 0x7ff4e84e8820>\n"
     ]
    }
   ],
   "source": [
    "print(fibonacci(10))"
   ]
  },
  {
   "cell_type": "code",
   "execution_count": 5,
   "id": "8f564e99",
   "metadata": {},
   "outputs": [],
   "source": [
    "def fibonacci_f(limit):\n",
    "    a, b = 0, 1\n",
    "    while a < limit:\n",
    "        return a\n",
    "        a, b = b, a + b"
   ]
  },
  {
   "cell_type": "code",
   "execution_count": 6,
   "id": "300006f6",
   "metadata": {},
   "outputs": [
    {
     "name": "stdout",
     "output_type": "stream",
     "text": [
      "0\n"
     ]
    }
   ],
   "source": [
    "print(fibonacci_f(10))"
   ]
  },
  {
   "cell_type": "code",
   "execution_count": 37,
   "id": "add45815",
   "metadata": {},
   "outputs": [
    {
     "name": "stdout",
     "output_type": "stream",
     "text": [
      "0\n",
      "2\n",
      "4\n",
      "6\n",
      "8\n"
     ]
    }
   ],
   "source": [
    "# =============================================================================\n",
    "# Using next with a generator\n",
    "# =============================================================================\n",
    "def even_numbers():\n",
    "    num = 0\n",
    "    while True:\n",
    "        yield num\n",
    "        num += 2\n",
    "\n",
    "even_gen = even_numbers()\n",
    "\n",
    "# Get the first 5 even numbers\n",
    "for _ in range(5):\n",
    "    print(next(even_gen))"
   ]
  },
  {
   "cell_type": "code",
   "execution_count": 7,
   "id": "8571dc58",
   "metadata": {},
   "outputs": [
    {
     "name": "stdout",
     "output_type": "stream",
     "text": [
      "A\n",
      "B\n",
      "C\n",
      "D\n",
      "E\n",
      "End of sequence\n"
     ]
    }
   ],
   "source": [
    "# =============================================================================\n",
    "# Using next with default value\n",
    "# =============================================================================\n",
    "def limited_alphabet(limit):\n",
    "    for i in range(65, 65 + limit):\n",
    "        yield chr(i)\n",
    "\n",
    "alphabet_gen = limited_alphabet(5)\n",
    "\n",
    "print(next(alphabet_gen, \"End of sequence\"))\n",
    "print(next(alphabet_gen, \"End of sequence\"))\n",
    "print(next(alphabet_gen, \"End of sequence\"))\n",
    "print(next(alphabet_gen, \"End of sequence\"))\n",
    "print(next(alphabet_gen, \"End of sequence\"))\n",
    "\n",
    "# This would return \"End of sequence\" since there are no more elements\n",
    "print(next(alphabet_gen, \"End of sequence\"))"
   ]
  },
  {
   "cell_type": "code",
   "execution_count": 3,
   "id": "a62729ed",
   "metadata": {},
   "outputs": [
    {
     "name": "stdout",
     "output_type": "stream",
     "text": [
      "4\n",
      "16\n"
     ]
    }
   ],
   "source": [
    "# =============================================================================\n",
    "# Generator Comprehensions\n",
    "# =============================================================================\n",
    "numbers = [1, 2, 3, 4, 5]\n",
    "squares_generator = (x * x for x in numbers if x % 2 == 0)\n",
    "\n",
    "for square in squares_generator:\n",
    "    print(square)  # Output: 4, 16\n"
   ]
  },
  {
   "cell_type": "code",
   "execution_count": 4,
   "id": "a41e74b5",
   "metadata": {},
   "outputs": [
    {
     "name": "stdout",
     "output_type": "stream",
     "text": [
      "4\n",
      "16\n"
     ]
    }
   ],
   "source": [
    "numbers = [1, 2, 3, 4, 5]\n",
    "squares_generator_list = [x * x for x in numbers if x % 2 == 0]\n",
    "\n",
    "for square in squares_generator_list:\n",
    "    print(square)  # Output: 4, 16\n"
   ]
  },
  {
   "cell_type": "code",
   "execution_count": 5,
   "id": "22f7ae27",
   "metadata": {},
   "outputs": [
    {
     "data": {
      "text/plain": [
       "[4, 16]"
      ]
     },
     "execution_count": 5,
     "metadata": {},
     "output_type": "execute_result"
    }
   ],
   "source": [
    "squares_generator_list"
   ]
  },
  {
   "cell_type": "code",
   "execution_count": 6,
   "id": "24c69197",
   "metadata": {},
   "outputs": [
    {
     "data": {
      "text/plain": [
       "<generator object <genexpr> at 0x7fb1f8b40a50>"
      ]
     },
     "execution_count": 6,
     "metadata": {},
     "output_type": "execute_result"
    }
   ],
   "source": [
    "squares_generator"
   ]
  },
  {
   "cell_type": "code",
   "execution_count": 7,
   "id": "a22676b5",
   "metadata": {},
   "outputs": [
    {
     "data": {
      "text/plain": [
       "[[1, 6], [2, 5], [3, 4]]"
      ]
     },
     "execution_count": 7,
     "metadata": {},
     "output_type": "execute_result"
    }
   ],
   "source": [
    "# =============================================================================\n",
    "# Lambda Function Example\n",
    "# =============================================================================\n",
    "a = [[1,6], [2, 5], [3, 4]]\n",
    "sorted(a, key=lambda y:y[0])"
   ]
  },
  {
   "cell_type": "code",
   "execution_count": 9,
   "id": "46dccfea",
   "metadata": {},
   "outputs": [
    {
     "data": {
      "text/plain": [
       "[[1, 6], [2, 5], [3, 4]]"
      ]
     },
     "execution_count": 9,
     "metadata": {},
     "output_type": "execute_result"
    }
   ],
   "source": [
    "sorted(a, key=lambda z:-z[1])"
   ]
  },
  {
   "cell_type": "code",
   "execution_count": 10,
   "id": "22d8517b",
   "metadata": {},
   "outputs": [
    {
     "data": {
      "text/plain": [
       "[2, 3, 4, 5]"
      ]
     },
     "execution_count": 10,
     "metadata": {},
     "output_type": "execute_result"
    }
   ],
   "source": [
    "# =============================================================================\n",
    "# Map Function\n",
    "# =============================================================================\n",
    "b = [1,2,3,4]\n",
    "def f(x):\n",
    "    return x+1\n",
    "\n",
    "list(map(f, b))"
   ]
  },
  {
   "cell_type": "code",
   "execution_count": 13,
   "id": "506b6692",
   "metadata": {},
   "outputs": [
    {
     "data": {
      "text/plain": [
       "[2, 4]"
      ]
     },
     "execution_count": 13,
     "metadata": {},
     "output_type": "execute_result"
    }
   ],
   "source": [
    "# =============================================================================\n",
    "# Filter Function\n",
    "# =============================================================================\n",
    "def f1(x):\n",
    "    return x % 2 == 0\n",
    "\n",
    "list(filter(f1, b))"
   ]
  },
  {
   "cell_type": "code",
   "execution_count": 34,
   "id": "269ec273",
   "metadata": {},
   "outputs": [
    {
     "name": "stdout",
     "output_type": "stream",
     "text": [
      "120\n"
     ]
    }
   ],
   "source": [
    "# =============================================================================\n",
    "# Reduce Function\n",
    "# =============================================================================\n",
    "from functools import reduce\n",
    "\n",
    "# Calculate the factorial of a number\n",
    "def factorial(n):\n",
    "    return reduce(lambda x, y: x * y, range(1, n+1))\n",
    "\n",
    "number = 5\n",
    "print(factorial(number))  # Output: 120\n"
   ]
  },
  {
   "cell_type": "code",
   "execution_count": 38,
   "id": "b8122adb",
   "metadata": {},
   "outputs": [
    {
     "name": "stdout",
     "output_type": "stream",
     "text": [
      "Buddy\n",
      "Rocky\n",
      "Rocky says: Woof! Woof!\n"
     ]
    }
   ],
   "source": [
    "# =============================================================================\n",
    "# Class Example\n",
    "# =============================================================================\n",
    "class Dog:\n",
    "    def __init__(self, name, breed):\n",
    "        self.name = name\n",
    "        self.breed = breed\n",
    "\n",
    "    def bark(self):\n",
    "        print(f\"{self.name} says: Woof! Woof!\")\n",
    "\n",
    "# Creating Objects\n",
    "dog1 = Dog(\"Buddy\", \"Golden Retriever\")\n",
    "dog2 = Dog(\"Max\", \"Labrador\")\n",
    "\n",
    "# Accessing Attributes and Methods\n",
    "print(dog1.name)  # Output: Buddy\n",
    "dog1.name = \"Rocky\"\n",
    "print(dog1.name)  # Output: Rocky\n",
    "dog1.bark()  # Output: Rocky says: Woof! Woof!"
   ]
  },
  {
   "cell_type": "code",
   "execution_count": 14,
   "id": "afd8c29c",
   "metadata": {},
   "outputs": [
    {
     "name": "stdout",
     "output_type": "stream",
     "text": [
      "Mammal\n",
      "Buddy\n",
      "Golden Retriever\n",
      "Mammal\n",
      "Coco\n",
      "Domestic Short Hair\n"
     ]
    }
   ],
   "source": [
    "# =============================================================================\n",
    "# Inheritance\n",
    "# =============================================================================\n",
    "class Animal:\n",
    "    def __init__(self, species):\n",
    "        self.species = species\n",
    "\n",
    "class Dog(Animal):\n",
    "    def __init__(self, species, name, breed):\n",
    "        super().__init__(species)\n",
    "        self.name = name\n",
    "        self.breed = breed\n",
    "\n",
    "class Cat(Animal):\n",
    "    def __init__(self, species, name, breed):\n",
    "        super().__init__(species)\n",
    "        self.name = name\n",
    "        self.breed = breed\n",
    "    \n",
    "# Inheritance Example\n",
    "dog = Dog(\"Mammal\", \"Buddy\", \"Golden Retriever\")\n",
    "print(dog.species)  # Output: Mammal\n",
    "print(dog.name)  # Output: Buddy\n",
    "print(dog.breed)  # Output: Golden Retriever\n",
    "\n",
    "cat = Cat(\"Mammal\", \"Coco\", \"Domestic Short Hair\")\n",
    "print(cat.species)  \n",
    "print(cat.name)  \n",
    "print(cat.breed) "
   ]
  },
  {
   "cell_type": "code",
   "execution_count": 16,
   "id": "f9be325d",
   "metadata": {},
   "outputs": [
    {
     "name": "stdout",
     "output_type": "stream",
     "text": [
      "I can swim.\n",
      "I can fly.\n",
      "[<class '__main__.Duck'>, <class '__main__.Swim'>, <class '__main__.Fly'>, <class 'object'>]\n"
     ]
    }
   ],
   "source": [
    "# =============================================================================\n",
    "# Multiple Inheritance\n",
    "# =============================================================================\n",
    "class Swim:\n",
    "    def swim(self):\n",
    "        print(\"I can swim.\")\n",
    "        \n",
    "class Fly:\n",
    "    def fly(self):\n",
    "        print(\"I can fly.\")\n",
    "        \n",
    "class Duck(Swim, Fly):\n",
    "    pass\n",
    "\n",
    "duck = Duck()\n",
    "duck.swim()\n",
    "duck.fly()\n",
    "\n",
    "# =============================================================================\n",
    "# Method Resolution Order\n",
    "# =============================================================================\n",
    "print(Duck.mro())"
   ]
  },
  {
   "cell_type": "code",
   "execution_count": 40,
   "id": "a9700670",
   "metadata": {},
   "outputs": [
    {
     "name": "stdout",
     "output_type": "stream",
     "text": [
      "Platypus.speak\n",
      "Bird.speak\n",
      "Mammal.speak\n",
      "Animal.speak\n"
     ]
    }
   ],
   "source": [
    "# =============================================================================\n",
    "# MRO in Multiple Inheritance\n",
    "# =============================================================================\n",
    "class Animal:\n",
    "    def speak(self):\n",
    "        print(\"Animal.speak\")\n",
    "\n",
    "class Bird(Animal):\n",
    "    def speak(self):\n",
    "        print(\"Bird.speak\")\n",
    "        super().speak()\n",
    "\n",
    "class Mammal(Animal):\n",
    "    def speak(self):\n",
    "        print(\"Mammal.speak\")\n",
    "        super().speak()\n",
    "\n",
    "class Platypus(Bird, Mammal):\n",
    "    def speak(self):\n",
    "        print(\"Platypus.speak\")\n",
    "        super().speak()\n",
    "\n",
    "p = Platypus()\n",
    "p.speak()\n"
   ]
  },
  {
   "cell_type": "code",
   "execution_count": 3,
   "id": "e8d2df3a",
   "metadata": {},
   "outputs": [
    {
     "name": "stdout",
     "output_type": "stream",
     "text": [
      "20.0\n",
      "20.0\n"
     ]
    },
    {
     "ename": "AttributeError",
     "evalue": "'Temperature' object has no attribute '__celsius'",
     "output_type": "error",
     "traceback": [
      "\u001b[0;31m---------------------------------------------------------------------------\u001b[0m",
      "\u001b[0;31mAttributeError\u001b[0m                            Traceback (most recent call last)",
      "\u001b[0;32m/var/folders/ww/y8f04l7d767f4mpjwfq0lt8w0000gn/T/ipykernel_63310/1883898542.py\u001b[0m in \u001b[0;36m<module>\u001b[0;34m\u001b[0m\n\u001b[1;32m     22\u001b[0m \u001b[0mprint\u001b[0m\u001b[0;34m(\u001b[0m\u001b[0mtemp\u001b[0m\u001b[0;34m.\u001b[0m\u001b[0mget_celsius\u001b[0m\u001b[0;34m(\u001b[0m\u001b[0;34m)\u001b[0m\u001b[0;34m)\u001b[0m\u001b[0;34m\u001b[0m\u001b[0;34m\u001b[0m\u001b[0m\n\u001b[1;32m     23\u001b[0m \u001b[0mprint\u001b[0m\u001b[0;34m(\u001b[0m\u001b[0mtemp\u001b[0m\u001b[0;34m.\u001b[0m\u001b[0m_Temperature__celsius\u001b[0m\u001b[0;34m)\u001b[0m\u001b[0;34m\u001b[0m\u001b[0;34m\u001b[0m\u001b[0m\n\u001b[0;32m---> 24\u001b[0;31m \u001b[0mtemp\u001b[0m\u001b[0;34m.\u001b[0m\u001b[0m__celsius\u001b[0m\u001b[0;34m\u001b[0m\u001b[0;34m\u001b[0m\u001b[0m\n\u001b[0m",
      "\u001b[0;31mAttributeError\u001b[0m: 'Temperature' object has no attribute '__celsius'"
     ]
    }
   ],
   "source": [
    "# =============================================================================\n",
    "# Python Encapsulation\n",
    "# =============================================================================\n",
    "class Temperature:\n",
    "    def __init__(self, celsius=0):\n",
    "        self.__celsius = celsius\n",
    "\n",
    "    def set_celsius(self, celsius):\n",
    "        self.__celsius = celsius\n",
    "\n",
    "    def get_celsius(self):\n",
    "        return self.__celsius\n",
    "\n",
    "    def set_fahrenheit(self, fahrenheit):\n",
    "        self.__celsius = (fahrenheit - 32) * (5 / 9)\n",
    "\n",
    "    def get_fahrenheit(self):\n",
    "        return self.__celsius * (9 / 5) + 32\n",
    "\n",
    "temp = Temperature()\n",
    "temp.set_fahrenheit(68)\n",
    "print(temp.get_celsius()) # 20.0\n",
    "print(temp._Temperature__celsius) # 20.0\n",
    "temp.__celsius # AttributeError"
   ]
  },
  {
   "cell_type": "code",
   "execution_count": 3,
   "id": "a1e6b55c",
   "metadata": {},
   "outputs": [
    {
     "data": {
      "text/plain": [
       "20.0"
      ]
     },
     "execution_count": 3,
     "metadata": {},
     "output_type": "execute_result"
    }
   ],
   "source": [
    "# =============================================================================\n",
    "# Python Encapsulation\n",
    "# =============================================================================\n",
    "class Temperature:\n",
    "    def __init__(self, celsius=0):\n",
    "        self.celsius = celsius\n",
    "\n",
    "    def set_celsius(self, celsius):\n",
    "        self.celsius = celsius\n",
    "\n",
    "    def get_celsius(self):\n",
    "        return self.celsius\n",
    "\n",
    "    def set_fahrenheit(self, fahrenheit):\n",
    "        self.celsius = (fahrenheit - 32) * (5 / 9)\n",
    "\n",
    "    def get_fahrenheit(self):\n",
    "        return self.celsius * (9 / 5) + 32\n",
    "\n",
    "temp = Temperature()\n",
    "temp.set_fahrenheit(68)\n",
    "# print(temp.get_celsius())\n",
    "temp.celsius"
   ]
  },
  {
   "cell_type": "code",
   "execution_count": 24,
   "id": "9f10c533",
   "metadata": {},
   "outputs": [
    {
     "name": "stdout",
     "output_type": "stream",
     "text": [
      "Playing audio file\n",
      "Playing video file\n",
      "Displaying image file\n"
     ]
    }
   ],
   "source": [
    "# =============================================================================\n",
    "# Polymorphism\n",
    "# =============================================================================\n",
    "class MediaFile:\n",
    "    def play(self):\n",
    "        pass\n",
    "\n",
    "class AudioFile(MediaFile):\n",
    "    def play(self):\n",
    "        print(\"Playing audio file\")\n",
    "\n",
    "class VideoFile(MediaFile):\n",
    "    def play(self):\n",
    "        print(\"Playing video file\")\n",
    "\n",
    "class ImageFile(MediaFile):\n",
    "    def play(self):\n",
    "        print(\"Displaying image file\")\n",
    "\n",
    "media_files = [VideoFile(), AudioFile(), ImageFile()]\n",
    "\n",
    "for media_file in media_files:\n",
    "    media_file.play()"
   ]
  },
  {
   "cell_type": "code",
   "execution_count": 4,
   "id": "514a5579",
   "metadata": {},
   "outputs": [
    {
     "name": "stdout",
     "output_type": "stream",
     "text": [
      "8\n"
     ]
    }
   ],
   "source": [
    "# =============================================================================\n",
    "# @staticmethod\n",
    "# =============================================================================\n",
    "class MathUtils:\n",
    "    @staticmethod\n",
    "    def add(a, b):\n",
    "        return a + b\n",
    "\n",
    "result = MathUtils.add(5, 3)\n",
    "print(result)  # Output: 8\n"
   ]
  },
  {
   "cell_type": "code",
   "execution_count": null,
   "id": "aef2f136",
   "metadata": {},
   "outputs": [],
   "source": [
    "# =============================================================================\n",
    "# @staticmethod\n",
    "# =============================================================================\n",
    "class StringUtils:\n",
    "    @staticmethod\n",
    "    def reverse_string(s):\n",
    "        return s[::-1]\n",
    "\n",
    "    @staticmethod\n",
    "    def is_palindrome(s):\n",
    "        return s == s[::-1]\n",
    "\n",
    "    @staticmethod\n",
    "    def word_count(s):\n",
    "        return len(s.split())\n",
    "\n",
    "print(StringUtils.reverse_string(\"hello\"))\n",
    "print(StringUtils.is_palindrome(\"racecar\"))\n",
    "print(StringUtils.word_count(\"Hello, world!\"))"
   ]
  },
  {
   "cell_type": "code",
   "execution_count": 28,
   "id": "5d210ede",
   "metadata": {},
   "outputs": [
    {
     "name": "stdout",
     "output_type": "stream",
     "text": [
      "John\n",
      "33\n",
      "John\n",
      "32\n"
     ]
    }
   ],
   "source": [
    "import datetime\n",
    "\n",
    "class Person:\n",
    "    def __init__(self, name, age):\n",
    "        self.name = name\n",
    "        self.age = age\n",
    "\n",
    "    @classmethod\n",
    "    def from_birth_year(cls, name, birth_year):\n",
    "        current_year = datetime.datetime.now().year\n",
    "        age = current_year - birth_year\n",
    "        return cls(name, age)\n",
    "\n",
    "person = Person.from_birth_year(\"John\", 1990)\n",
    "print(person.name)  # Output: \"John\"\n",
    "print(person.age)   # Output: 33\n",
    "\n",
    "person1 = Person('John', 32)\n",
    "print(person1.name)\n",
    "print(person1.age)"
   ]
  },
  {
   "cell_type": "code",
   "execution_count": 25,
   "id": "ee7de28b",
   "metadata": {},
   "outputs": [],
   "source": [
    "# =============================================================================\n",
    "# @classmethod\n",
    "# =============================================================================\n",
    "class Pizza:\n",
    "    total_pizzas = 0\n",
    "    most_popular_topping = \"\"\n",
    "\n",
    "    def __init__(self, topping):\n",
    "        Pizza.total_pizzas += 1\n",
    "        Pizza.most_popular_topping = topping\n",
    "\n",
    "    @classmethod\n",
    "    def get_total_pizzas(cls):\n",
    "        return cls.total_pizzas\n",
    "\n",
    "    @classmethod\n",
    "    def get_most_popular_topping(cls):\n",
    "        return cls.most_popular_topping\n",
    "    \n",
    "    def get_total_pizzas_1(self):\n",
    "        return self.total_pizzas\n",
    "\n",
    "\n",
    "class Employee:\n",
    "    def __init__(self, name, id):\n",
    "        self.name = name\n",
    "        self.id = id\n",
    "\n",
    "    @classmethod\n",
    "    def from_string(cls, employee_string):\n",
    "        name, id = employee_string.split(',')\n",
    "        return cls(name, id)\n"
   ]
  },
  {
   "cell_type": "code",
   "execution_count": 26,
   "id": "5948cbda",
   "metadata": {},
   "outputs": [
    {
     "name": "stdout",
     "output_type": "stream",
     "text": [
      "Total pizzas: 3\n",
      "Most popular topping: Cheese\n",
      "Total pizzas (instance method): 3\n"
     ]
    }
   ],
   "source": [
    "# Create instances of the Pizza class\n",
    "pizza1 = Pizza(\"Pepperoni\")\n",
    "pizza2 = Pizza(\"Mushroom\")\n",
    "pizza3 = Pizza(\"Cheese\")\n",
    "\n",
    "# Access class methods\n",
    "total_pizzas = Pizza.get_total_pizzas()\n",
    "print(\"Total pizzas:\", total_pizzas)  # Output: Total pizzas: 3\n",
    "\n",
    "most_popular_topping = Pizza.get_most_popular_topping()\n",
    "print(\"Most popular topping:\", most_popular_topping)  \n",
    "# Output: Most popular topping: Cheese\n",
    "\n",
    "# Access instance method\n",
    "total_pizzas_1 = pizza1.get_total_pizzas_1()\n",
    "print(\"Total pizzas (instance method):\", total_pizzas_1)  \n",
    "# Output: Total pizzas (instance method): 3\n"
   ]
  },
  {
   "cell_type": "code",
   "execution_count": 21,
   "id": "1496cbd7",
   "metadata": {},
   "outputs": [
    {
     "data": {
      "text/plain": [
       "'Cheese'"
      ]
     },
     "execution_count": 21,
     "metadata": {},
     "output_type": "execute_result"
    }
   ],
   "source": [
    "pizza1.get_most_popular_topping()"
   ]
  },
  {
   "cell_type": "code",
   "execution_count": 22,
   "id": "50c6b33c",
   "metadata": {},
   "outputs": [
    {
     "name": "stdout",
     "output_type": "stream",
     "text": [
      "Name: John Doe\n",
      "ID: 123\n"
     ]
    }
   ],
   "source": [
    "# Create an Employee instance using the class method\n",
    "employee_string = \"John Doe,123\"\n",
    "employee = Employee.from_string(employee_string)\n",
    "\n",
    "# Access instance attributes\n",
    "print(\"Name:\", employee.name)  # Output: Name: John Doe\n",
    "print(\"ID:\", employee.id)  # Output: ID: 123"
   ]
  },
  {
   "cell_type": "code",
   "execution_count": 29,
   "id": "f1180427",
   "metadata": {},
   "outputs": [
    {
     "data": {
      "text/plain": [
       "1.0"
      ]
     },
     "execution_count": 29,
     "metadata": {},
     "output_type": "execute_result"
    }
   ],
   "source": [
    "sum([0.2, 0.05, 0.05, 0.1, 0.1, 0.2, 0.1, 0.1, 0.05, 0.05])"
   ]
  },
  {
   "cell_type": "code",
   "execution_count": null,
   "id": "3cd72f5f",
   "metadata": {},
   "outputs": [],
   "source": []
  }
 ],
 "metadata": {
  "kernelspec": {
   "display_name": "Python 3 (ipykernel)",
   "language": "python",
   "name": "python3"
  },
  "language_info": {
   "codemirror_mode": {
    "name": "ipython",
    "version": 3
   },
   "file_extension": ".py",
   "mimetype": "text/x-python",
   "name": "python",
   "nbconvert_exporter": "python",
   "pygments_lexer": "ipython3",
   "version": "3.9.13"
  }
 },
 "nbformat": 4,
 "nbformat_minor": 5
}
